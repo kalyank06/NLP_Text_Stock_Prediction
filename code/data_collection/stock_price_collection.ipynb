{
 "cells": [
  {
   "cell_type": "code",
   "execution_count": 7,
   "id": "e0f32e4a",
   "metadata": {},
   "outputs": [
    {
     "name": "stdout",
     "output_type": "stream",
     "text": [
      "Defaulting to user installation because normal site-packages is not writeable\n",
      "Collecting yfinance\n",
      "  Downloading yfinance-0.2.31-py2.py3-none-any.whl.metadata (11 kB)\n",
      "Collecting pandas>=1.3.0 (from yfinance)\n",
      "  Downloading pandas-2.0.3-cp38-cp38-macosx_11_0_arm64.whl.metadata (18 kB)\n",
      "Collecting numpy>=1.16.5 (from yfinance)\n",
      "  Downloading numpy-1.24.4-cp38-cp38-macosx_11_0_arm64.whl.metadata (5.6 kB)\n",
      "Collecting requests>=2.31 (from yfinance)\n",
      "  Downloading requests-2.31.0-py3-none-any.whl.metadata (4.6 kB)\n",
      "Collecting multitasking>=0.0.7 (from yfinance)\n",
      "  Downloading multitasking-0.0.11-py3-none-any.whl (8.5 kB)\n",
      "Collecting lxml>=4.9.1 (from yfinance)\n",
      "  Downloading lxml-4.9.3.tar.gz (3.6 MB)\n",
      "\u001b[2K     \u001b[90m━━━━━━━━━━━━━━━━━━━━━━━━━━━━━━━━━━━━━━━━\u001b[0m \u001b[32m3.6/3.6 MB\u001b[0m \u001b[31m14.9 MB/s\u001b[0m eta \u001b[36m0:00:00\u001b[0m00:01\u001b[0m00:01\u001b[0m\n",
      "\u001b[?25h  Preparing metadata (setup.py) ... \u001b[?25ldone\n",
      "\u001b[?25hCollecting appdirs>=1.4.4 (from yfinance)\n",
      "  Downloading appdirs-1.4.4-py2.py3-none-any.whl (9.6 kB)\n",
      "Collecting pytz>=2022.5 (from yfinance)\n",
      "  Downloading pytz-2023.3.post1-py2.py3-none-any.whl.metadata (22 kB)\n",
      "Collecting frozendict>=2.3.4 (from yfinance)\n",
      "  Downloading frozendict-2.3.8-cp38-cp38-macosx_11_0_arm64.whl (35 kB)\n",
      "Collecting peewee>=3.16.2 (from yfinance)\n",
      "  Downloading peewee-3.17.0.tar.gz (2.9 MB)\n",
      "\u001b[2K     \u001b[90m━━━━━━━━━━━━━━━━━━━━━━━━━━━━━━━━━━━━━━━━\u001b[0m \u001b[32m2.9/2.9 MB\u001b[0m \u001b[31m15.8 MB/s\u001b[0m eta \u001b[36m0:00:00\u001b[0m00:01\u001b[0m00:01\u001b[0m\n",
      "\u001b[?25h  Installing build dependencies ... \u001b[?25ldone\n",
      "\u001b[?25h  Getting requirements to build wheel ... \u001b[?25ldone\n",
      "\u001b[?25h  Preparing metadata (pyproject.toml) ... \u001b[?25ldone\n",
      "\u001b[?25hCollecting beautifulsoup4>=4.11.1 (from yfinance)\n",
      "  Downloading beautifulsoup4-4.12.2-py3-none-any.whl (142 kB)\n",
      "\u001b[2K     \u001b[90m━━━━━━━━━━━━━━━━━━━━━━━━━━━━━━━━━━━━━━━\u001b[0m \u001b[32m143.0/143.0 kB\u001b[0m \u001b[31m4.8 MB/s\u001b[0m eta \u001b[36m0:00:00\u001b[0m\n",
      "\u001b[?25hCollecting html5lib>=1.1 (from yfinance)\n",
      "  Downloading html5lib-1.1-py2.py3-none-any.whl (112 kB)\n",
      "\u001b[2K     \u001b[90m━━━━━━━━━━━━━━━━━━━━━━━━━━━━━━━━━━━━━━━\u001b[0m \u001b[32m112.2/112.2 kB\u001b[0m \u001b[31m4.2 MB/s\u001b[0m eta \u001b[36m0:00:00\u001b[0m\n",
      "\u001b[?25hCollecting soupsieve>1.2 (from beautifulsoup4>=4.11.1->yfinance)\n",
      "  Downloading soupsieve-2.5-py3-none-any.whl.metadata (4.7 kB)\n",
      "Requirement already satisfied: six>=1.9 in /Library/Developer/CommandLineTools/Library/Frameworks/Python3.framework/Versions/3.8/lib/python3.8/site-packages (from html5lib>=1.1->yfinance) (1.15.0)\n",
      "Collecting webencodings (from html5lib>=1.1->yfinance)\n",
      "  Downloading webencodings-0.5.1-py2.py3-none-any.whl (11 kB)\n",
      "Requirement already satisfied: python-dateutil>=2.8.2 in /Users/hp/Library/Python/3.8/lib/python/site-packages (from pandas>=1.3.0->yfinance) (2.8.2)\n",
      "Collecting tzdata>=2022.1 (from pandas>=1.3.0->yfinance)\n",
      "  Downloading tzdata-2023.3-py2.py3-none-any.whl (341 kB)\n",
      "\u001b[2K     \u001b[90m━━━━━━━━━━━━━━━━━━━━━━━━━━━━━━━━━━━━━━━\u001b[0m \u001b[32m341.8/341.8 kB\u001b[0m \u001b[31m7.3 MB/s\u001b[0m eta \u001b[36m0:00:00\u001b[0m00:01\u001b[0m\n",
      "\u001b[?25hCollecting charset-normalizer<4,>=2 (from requests>=2.31->yfinance)\n",
      "  Downloading charset_normalizer-3.3.2-cp38-cp38-macosx_11_0_arm64.whl.metadata (33 kB)\n",
      "Collecting idna<4,>=2.5 (from requests>=2.31->yfinance)\n",
      "  Downloading idna-3.4-py3-none-any.whl (61 kB)\n",
      "\u001b[2K     \u001b[90m━━━━━━━━━━━━━━━━━━━━━━━━━━━━━━━━━━━━━━━━\u001b[0m \u001b[32m61.5/61.5 kB\u001b[0m \u001b[31m2.4 MB/s\u001b[0m eta \u001b[36m0:00:00\u001b[0m\n",
      "\u001b[?25hCollecting urllib3<3,>=1.21.1 (from requests>=2.31->yfinance)\n",
      "  Downloading urllib3-2.0.7-py3-none-any.whl.metadata (6.6 kB)\n",
      "Collecting certifi>=2017.4.17 (from requests>=2.31->yfinance)\n",
      "  Downloading certifi-2023.7.22-py3-none-any.whl.metadata (2.2 kB)\n",
      "Downloading yfinance-0.2.31-py2.py3-none-any.whl (65 kB)\n",
      "\u001b[2K   \u001b[90m━━━━━━━━━━━━━━━━━━━━━━━━━━━━━━━━━━━━━━━━\u001b[0m \u001b[32m65.6/65.6 kB\u001b[0m \u001b[31m2.4 MB/s\u001b[0m eta \u001b[36m0:00:00\u001b[0m\n",
      "\u001b[?25hDownloading numpy-1.24.4-cp38-cp38-macosx_11_0_arm64.whl (13.8 MB)\n",
      "\u001b[2K   \u001b[90m━━━━━━━━━━━━━━━━━━━━━━━━━━━━━━━━━━━━━━━━\u001b[0m \u001b[32m13.8/13.8 MB\u001b[0m \u001b[31m15.8 MB/s\u001b[0m eta \u001b[36m0:00:00\u001b[0m00:01\u001b[0m00:01\u001b[0m\n",
      "\u001b[?25hDownloading pandas-2.0.3-cp38-cp38-macosx_11_0_arm64.whl (10.7 MB)\n",
      "\u001b[2K   \u001b[90m━━━━━━━━━━━━━━━━━━━━━━━━━━━━━━━━━━━━━━━━\u001b[0m \u001b[32m10.7/10.7 MB\u001b[0m \u001b[31m15.6 MB/s\u001b[0m eta \u001b[36m0:00:00\u001b[0m00:01\u001b[0m00:01\u001b[0m\n",
      "\u001b[?25hDownloading pytz-2023.3.post1-py2.py3-none-any.whl (502 kB)\n",
      "\u001b[2K   \u001b[90m━━━━━━━━━━━━━━━━━━━━━━━━━━━━━━━━━━━━━━━━\u001b[0m \u001b[32m502.5/502.5 kB\u001b[0m \u001b[31m4.9 MB/s\u001b[0m eta \u001b[36m0:00:00\u001b[0m:00:01\u001b[0m\n",
      "\u001b[?25hDownloading requests-2.31.0-py3-none-any.whl (62 kB)\n",
      "\u001b[2K   \u001b[90m━━━━━━━━━━━━━━━━━━━━━━━━━━━━━━━━━━━━━━━━\u001b[0m \u001b[32m62.6/62.6 kB\u001b[0m \u001b[31m2.1 MB/s\u001b[0m eta \u001b[36m0:00:00\u001b[0m\n",
      "\u001b[?25hDownloading certifi-2023.7.22-py3-none-any.whl (158 kB)\n",
      "\u001b[2K   \u001b[90m━━━━━━━━━━━━━━━━━━━━━━━━━━━━━━━━━━━━━━━━\u001b[0m \u001b[32m158.3/158.3 kB\u001b[0m \u001b[31m3.2 MB/s\u001b[0m eta \u001b[36m0:00:00\u001b[0mta \u001b[36m0:00:01\u001b[0m\n",
      "\u001b[?25hDownloading charset_normalizer-3.3.2-cp38-cp38-macosx_11_0_arm64.whl (119 kB)\n",
      "\u001b[2K   \u001b[90m━━━━━━━━━━━━━━━━━━━━━━━━━━━━━━━━━━━━━━━\u001b[0m \u001b[32m119.1/119.1 kB\u001b[0m \u001b[31m987.6 kB/s\u001b[0m eta \u001b[36m0:00:00\u001b[0ma \u001b[36m0:00:01\u001b[0m\n",
      "\u001b[?25hDownloading soupsieve-2.5-py3-none-any.whl (36 kB)\n",
      "Downloading urllib3-2.0.7-py3-none-any.whl (124 kB)\n",
      "\u001b[2K   \u001b[90m━━━━━━━━━━━━━━━━━━━━━━━━━━━━━━━━━━━━━━━━\u001b[0m \u001b[32m124.2/124.2 kB\u001b[0m \u001b[31m4.7 MB/s\u001b[0m eta \u001b[36m0:00:00\u001b[0m\n",
      "\u001b[?25hBuilding wheels for collected packages: lxml, peewee\n",
      "  Building wheel for lxml (setup.py) ... \u001b[?25ldone\n",
      "\u001b[?25h  Created wheel for lxml: filename=lxml-4.9.3-cp38-cp38-macosx_10_14_arm64.whl size=3207983 sha256=c6d657e26b1570ae210d9eb695d0ea12aac3d685621f37589c409bf22feab976\n",
      "  Stored in directory: /Users/hp/Library/Caches/pip/wheels/70/25/e4/422c8f9cd5b754007088081b24e9bb2a96d85d66c3bb67d413\n",
      "  Building wheel for peewee (pyproject.toml) ... \u001b[?25ldone\n",
      "\u001b[?25h  Created wheel for peewee: filename=peewee-3.17.0-cp38-cp38-macosx_10_14_arm64.whl size=381189 sha256=de0c25b9a7c614ac049f3e228c686d945fd256842e8730c643c8f7ce386f0d6a\n",
      "  Stored in directory: /Users/hp/Library/Caches/pip/wheels/8a/2c/db/72c95212e78c98614b5f89978fc5d68a67e39ea7701fc8c504\n",
      "Successfully built lxml peewee\n",
      "Installing collected packages: webencodings, pytz, peewee, multitasking, appdirs, urllib3, tzdata, soupsieve, numpy, lxml, idna, html5lib, frozendict, charset-normalizer, certifi, requests, pandas, beautifulsoup4, yfinance\n",
      "Successfully installed appdirs-1.4.4 beautifulsoup4-4.12.2 certifi-2023.7.22 charset-normalizer-3.3.2 frozendict-2.3.8 html5lib-1.1 idna-3.4 lxml-4.9.3 multitasking-0.0.11 numpy-1.24.4 pandas-2.0.3 peewee-3.17.0 pytz-2023.3.post1 requests-2.31.0 soupsieve-2.5 tzdata-2023.3 urllib3-2.0.7 webencodings-0.5.1 yfinance-0.2.31\n",
      "Note: you may need to restart the kernel to use updated packages.\n"
     ]
    }
   ],
   "source": [
    "pip install yfinance"
   ]
  },
  {
   "cell_type": "code",
   "execution_count": 9,
   "id": "5f1782d3",
   "metadata": {},
   "outputs": [
    {
     "name": "stdout",
     "output_type": "stream",
     "text": [
      "Defaulting to user installation because normal site-packages is not writeable\n",
      "Collecting pandas_datareader\n",
      "  Downloading pandas_datareader-0.10.0-py3-none-any.whl (109 kB)\n",
      "\u001b[2K     \u001b[90m━━━━━━━━━━━━━━━━━━━━━━━━━━━━━━━━━━━━━━━\u001b[0m \u001b[32m109.5/109.5 kB\u001b[0m \u001b[31m3.4 MB/s\u001b[0m eta \u001b[36m0:00:00\u001b[0m\n",
      "\u001b[?25hRequirement already satisfied: lxml in /Users/hp/Library/Python/3.8/lib/python/site-packages (from pandas_datareader) (4.9.3)\n",
      "Requirement already satisfied: pandas>=0.23 in /Users/hp/Library/Python/3.8/lib/python/site-packages (from pandas_datareader) (2.0.3)\n",
      "Requirement already satisfied: requests>=2.19.0 in /Users/hp/Library/Python/3.8/lib/python/site-packages (from pandas_datareader) (2.31.0)\n",
      "Requirement already satisfied: python-dateutil>=2.8.2 in /Users/hp/Library/Python/3.8/lib/python/site-packages (from pandas>=0.23->pandas_datareader) (2.8.2)\n",
      "Requirement already satisfied: pytz>=2020.1 in /Users/hp/Library/Python/3.8/lib/python/site-packages (from pandas>=0.23->pandas_datareader) (2023.3.post1)\n",
      "Requirement already satisfied: tzdata>=2022.1 in /Users/hp/Library/Python/3.8/lib/python/site-packages (from pandas>=0.23->pandas_datareader) (2023.3)\n",
      "Requirement already satisfied: numpy>=1.20.3 in /Users/hp/Library/Python/3.8/lib/python/site-packages (from pandas>=0.23->pandas_datareader) (1.24.4)\n",
      "Requirement already satisfied: charset-normalizer<4,>=2 in /Users/hp/Library/Python/3.8/lib/python/site-packages (from requests>=2.19.0->pandas_datareader) (3.3.2)\n",
      "Requirement already satisfied: idna<4,>=2.5 in /Users/hp/Library/Python/3.8/lib/python/site-packages (from requests>=2.19.0->pandas_datareader) (3.4)\n",
      "Requirement already satisfied: urllib3<3,>=1.21.1 in /Users/hp/Library/Python/3.8/lib/python/site-packages (from requests>=2.19.0->pandas_datareader) (2.0.7)\n",
      "Requirement already satisfied: certifi>=2017.4.17 in /Users/hp/Library/Python/3.8/lib/python/site-packages (from requests>=2.19.0->pandas_datareader) (2023.7.22)\n",
      "Requirement already satisfied: six>=1.5 in /Library/Developer/CommandLineTools/Library/Frameworks/Python3.framework/Versions/3.8/lib/python3.8/site-packages (from python-dateutil>=2.8.2->pandas>=0.23->pandas_datareader) (1.15.0)\n",
      "Installing collected packages: pandas_datareader\n",
      "Successfully installed pandas_datareader-0.10.0\n",
      "Note: you may need to restart the kernel to use updated packages.\n"
     ]
    }
   ],
   "source": [
    "pip install pandas_datareader"
   ]
  },
  {
   "cell_type": "code",
   "execution_count": 10,
   "id": "16233d85",
   "metadata": {},
   "outputs": [],
   "source": [
    "import yfinance as yf\n",
    "import requests\n",
    "from bs4 import BeautifulSoup\n",
    "import pandas as pd\n",
    "import numpy as np\n",
    "from datetime import datetime\n",
    "import pandas_datareader as reader"
   ]
  },
  {
   "cell_type": "code",
   "execution_count": 11,
   "id": "01568cd5",
   "metadata": {},
   "outputs": [
    {
     "data": {
      "text/plain": [
       "505"
      ]
     },
     "execution_count": 11,
     "metadata": {},
     "output_type": "execute_result"
    }
   ],
   "source": [
    "data = \"../../data/stock_data/constituents.csv\"\n",
    "stock=pd.read_csv(data)\n",
    "len(stock)"
   ]
  },
  {
   "cell_type": "code",
   "execution_count": 12,
   "id": "f06d0f10",
   "metadata": {},
   "outputs": [
    {
     "data": {
      "text/plain": [
       "0       MMM\n",
       "1       AOS\n",
       "2       ABT\n",
       "3      ABBV\n",
       "4      ABMD\n",
       "       ... \n",
       "500     YUM\n",
       "501    ZBRA\n",
       "502     ZBH\n",
       "503    ZION\n",
       "504     ZTS\n",
       "Name: Symbol, Length: 505, dtype: object"
      ]
     },
     "execution_count": 12,
     "metadata": {},
     "output_type": "execute_result"
    }
   ],
   "source": [
    "stock['Symbol']"
   ]
  },
  {
   "cell_type": "code",
   "execution_count": 13,
   "id": "789919c5",
   "metadata": {},
   "outputs": [
    {
     "data": {
      "text/plain": [
       "'stock1 = stock[0:1000]\\nstock1\\nstock_symbol1 = stock1[\"Symbol\"]\\nsymbol1 = stock_symbol1.tolist()\\n\\ntest_symbol = [\\'A\\',\\'AA\\',\\'AAC\\',\\'AACG\\',\\'AACI\\',\\'AACIU\\',\\'AACIW\\',\\'AADI\\',\\'AAIC\\',\\'AAIC^B\\',\\'AAIC^C\\',\\'AAIN\\']\\ntest_symbol1=[\\'BOOT\\',\\'A\\']\\n'"
      ]
     },
     "execution_count": 13,
     "metadata": {},
     "output_type": "execute_result"
    }
   ],
   "source": [
    "'''stock1 = stock[0:1000]\n",
    "stock1\n",
    "stock_symbol1 = stock1[\"Symbol\"]\n",
    "symbol1 = stock_symbol1.tolist()\n",
    "\n",
    "test_symbol = ['A','AA','AAC','AACG','AACI','AACIU','AACIW','AADI','AAIC','AAIC^B','AAIC^C','AAIN']\n",
    "test_symbol1=['BOOT','A']\n",
    "'''"
   ]
  },
  {
   "cell_type": "code",
   "execution_count": 32,
   "id": "f0c52959",
   "metadata": {},
   "outputs": [],
   "source": [
    "def stock_info(symbol):\n",
    "    try:\n",
    "        ticker = yf.Ticker(symbol)\n",
    "    except AttributeError:\n",
    "        return(pd.DataFrame(columns=['Date','Open','High','Low','Close','Volume','Dividends','Stock Splits','Symbol']))\n",
    "    # Set the start and end dates for data retrieval\n",
    "    start_date = datetime(2020, 9, 11)\n",
    "    end_date = datetime(2023, 11, 11)\n",
    "    historical_data = ticker.history(start=start_date, end=end_date, interval='1d')\n",
    "    historical_data['Symbol']=symbol\n",
    "    return(historical_data)"
   ]
  },
  {
   "cell_type": "code",
   "execution_count": 33,
   "id": "e7202d3e",
   "metadata": {},
   "outputs": [
    {
     "data": {
      "text/html": [
       "<div>\n",
       "<style scoped>\n",
       "    .dataframe tbody tr th:only-of-type {\n",
       "        vertical-align: middle;\n",
       "    }\n",
       "\n",
       "    .dataframe tbody tr th {\n",
       "        vertical-align: top;\n",
       "    }\n",
       "\n",
       "    .dataframe thead th {\n",
       "        text-align: right;\n",
       "    }\n",
       "</style>\n",
       "<table border=\"1\" class=\"dataframe\">\n",
       "  <thead>\n",
       "    <tr style=\"text-align: right;\">\n",
       "      <th></th>\n",
       "      <th>Open</th>\n",
       "      <th>High</th>\n",
       "      <th>Low</th>\n",
       "      <th>Close</th>\n",
       "      <th>Volume</th>\n",
       "      <th>Dividends</th>\n",
       "      <th>Stock Splits</th>\n",
       "    </tr>\n",
       "    <tr>\n",
       "      <th>Date</th>\n",
       "      <th></th>\n",
       "      <th></th>\n",
       "      <th></th>\n",
       "      <th></th>\n",
       "      <th></th>\n",
       "      <th></th>\n",
       "      <th></th>\n",
       "    </tr>\n",
       "  </thead>\n",
       "  <tbody>\n",
       "    <tr>\n",
       "      <th>2023-11-09 00:00:00-05:00</th>\n",
       "      <td>0.2633</td>\n",
       "      <td>0.23</td>\n",
       "      <td>0.23</td>\n",
       "      <td>0.23</td>\n",
       "      <td>303</td>\n",
       "      <td>0.0</td>\n",
       "      <td>0.0</td>\n",
       "    </tr>\n",
       "  </tbody>\n",
       "</table>\n",
       "</div>"
      ],
      "text/plain": [
       "                             Open  High   Low  Close  Volume  Dividends  \\\n",
       "Date                                                                      \n",
       "2023-11-09 00:00:00-05:00  0.2633  0.23  0.23   0.23     303        0.0   \n",
       "\n",
       "                           Stock Splits  \n",
       "Date                                     \n",
       "2023-11-09 00:00:00-05:00           0.0  "
      ]
     },
     "execution_count": 33,
     "metadata": {},
     "output_type": "execute_result"
    }
   ],
   "source": [
    "ticker = yf.Ticker('ZIVOW')\n",
    "\n",
    "# Set the start and end dates for data retrieval\n",
    "start_date = datetime(2020, 9, 11)\n",
    "end_date = datetime(2023, 11, 11)\n",
    "ticker.history(start=start_date, end=end_date, interval='1d')"
   ]
  },
  {
   "cell_type": "code",
   "execution_count": 34,
   "id": "90680081",
   "metadata": {},
   "outputs": [
    {
     "name": "stderr",
     "output_type": "stream",
     "text": [
      "ABC: No timezone found, symbol may be delisted\n",
      "ANTM: No timezone found, symbol may be delisted\n",
      "BLL: No timezone found, symbol may be delisted\n",
      "BRK.B: No timezone found, symbol may be delisted\n",
      "BF.B: No price data found, symbol may be delisted (1d 2020-09-11 00:00:00 -> 2023-11-11 00:00:00)\n",
      "CERN: No timezone found, symbol may be delisted\n",
      "CTXS: No timezone found, symbol may be delisted\n",
      "DISCA: No timezone found, symbol may be delisted\n",
      "DISCK: No timezone found, symbol may be delisted\n",
      "DRE: No timezone found, symbol may be delisted\n",
      "RE: No timezone found, symbol may be delisted\n",
      "FB: No timezone found, symbol may be delisted\n",
      "FRC: No timezone found, symbol may be delisted\n",
      "FISV: No timezone found, symbol may be delisted\n",
      "FBHS: No timezone found, symbol may be delisted\n",
      "INFO: No timezone found, symbol may be delisted\n",
      "KSU: No timezone found, symbol may be delisted\n",
      "NLSN: No timezone found, symbol may be delisted\n",
      "NLOK: No timezone found, symbol may be delisted\n",
      "PBCT: No timezone found, symbol may be delisted\n",
      "PKI: No timezone found, symbol may be delisted\n",
      "SIVB: No timezone found, symbol may be delisted\n",
      "TWTR: No timezone found, symbol may be delisted\n",
      "VIAC: No timezone found, symbol may be delisted\n",
      "WLTW: No timezone found, symbol may be delisted\n",
      "XLNX: No timezone found, symbol may be delisted\n"
     ]
    }
   ],
   "source": [
    "data=pd.concat([stock_info(stock) for stock in stock['Symbol']])"
   ]
  },
  {
   "cell_type": "code",
   "execution_count": 35,
   "id": "b6588d19",
   "metadata": {},
   "outputs": [
    {
     "data": {
      "text/html": [
       "<div>\n",
       "<style scoped>\n",
       "    .dataframe tbody tr th:only-of-type {\n",
       "        vertical-align: middle;\n",
       "    }\n",
       "\n",
       "    .dataframe tbody tr th {\n",
       "        vertical-align: top;\n",
       "    }\n",
       "\n",
       "    .dataframe thead th {\n",
       "        text-align: right;\n",
       "    }\n",
       "</style>\n",
       "<table border=\"1\" class=\"dataframe\">\n",
       "  <thead>\n",
       "    <tr style=\"text-align: right;\">\n",
       "      <th></th>\n",
       "      <th>Open</th>\n",
       "      <th>High</th>\n",
       "      <th>Low</th>\n",
       "      <th>Close</th>\n",
       "      <th>Volume</th>\n",
       "      <th>Dividends</th>\n",
       "      <th>Stock Splits</th>\n",
       "      <th>Symbol</th>\n",
       "      <th>Adj Close</th>\n",
       "    </tr>\n",
       "    <tr>\n",
       "      <th>Date</th>\n",
       "      <th></th>\n",
       "      <th></th>\n",
       "      <th></th>\n",
       "      <th></th>\n",
       "      <th></th>\n",
       "      <th></th>\n",
       "      <th></th>\n",
       "      <th></th>\n",
       "      <th></th>\n",
       "    </tr>\n",
       "  </thead>\n",
       "  <tbody>\n",
       "    <tr>\n",
       "      <th>2020-09-11 00:00:00-04:00</th>\n",
       "      <td>144.311409</td>\n",
       "      <td>147.189862</td>\n",
       "      <td>143.975879</td>\n",
       "      <td>146.721893</td>\n",
       "      <td>1698500.0</td>\n",
       "      <td>0.0</td>\n",
       "      <td>0.0</td>\n",
       "      <td>MMM</td>\n",
       "      <td>NaN</td>\n",
       "    </tr>\n",
       "    <tr>\n",
       "      <th>2020-09-14 00:00:00-04:00</th>\n",
       "      <td>148.037493</td>\n",
       "      <td>149.600327</td>\n",
       "      <td>146.951440</td>\n",
       "      <td>148.743866</td>\n",
       "      <td>2264200.0</td>\n",
       "      <td>0.0</td>\n",
       "      <td>0.0</td>\n",
       "      <td>MMM</td>\n",
       "      <td>NaN</td>\n",
       "    </tr>\n",
       "    <tr>\n",
       "      <th>2020-09-15 00:00:00-04:00</th>\n",
       "      <td>149.988839</td>\n",
       "      <td>150.041814</td>\n",
       "      <td>146.721880</td>\n",
       "      <td>147.075073</td>\n",
       "      <td>2056300.0</td>\n",
       "      <td>0.0</td>\n",
       "      <td>0.0</td>\n",
       "      <td>MMM</td>\n",
       "      <td>NaN</td>\n",
       "    </tr>\n",
       "    <tr>\n",
       "      <th>2020-09-16 00:00:00-04:00</th>\n",
       "      <td>148.222932</td>\n",
       "      <td>151.074911</td>\n",
       "      <td>147.905065</td>\n",
       "      <td>149.670990</td>\n",
       "      <td>2931700.0</td>\n",
       "      <td>0.0</td>\n",
       "      <td>0.0</td>\n",
       "      <td>MMM</td>\n",
       "      <td>NaN</td>\n",
       "    </tr>\n",
       "    <tr>\n",
       "      <th>2020-09-17 00:00:00-04:00</th>\n",
       "      <td>148.337698</td>\n",
       "      <td>152.929100</td>\n",
       "      <td>147.622501</td>\n",
       "      <td>152.205078</td>\n",
       "      <td>2756100.0</td>\n",
       "      <td>0.0</td>\n",
       "      <td>0.0</td>\n",
       "      <td>MMM</td>\n",
       "      <td>NaN</td>\n",
       "    </tr>\n",
       "    <tr>\n",
       "      <th>...</th>\n",
       "      <td>...</td>\n",
       "      <td>...</td>\n",
       "      <td>...</td>\n",
       "      <td>...</td>\n",
       "      <td>...</td>\n",
       "      <td>...</td>\n",
       "      <td>...</td>\n",
       "      <td>...</td>\n",
       "      <td>...</td>\n",
       "    </tr>\n",
       "    <tr>\n",
       "      <th>2023-11-06 00:00:00-05:00</th>\n",
       "      <td>170.279999</td>\n",
       "      <td>170.919998</td>\n",
       "      <td>162.220001</td>\n",
       "      <td>163.169998</td>\n",
       "      <td>2112500.0</td>\n",
       "      <td>0.0</td>\n",
       "      <td>0.0</td>\n",
       "      <td>ZTS</td>\n",
       "      <td>NaN</td>\n",
       "    </tr>\n",
       "    <tr>\n",
       "      <th>2023-11-07 00:00:00-05:00</th>\n",
       "      <td>163.089996</td>\n",
       "      <td>167.449997</td>\n",
       "      <td>163.070007</td>\n",
       "      <td>167.160004</td>\n",
       "      <td>2938200.0</td>\n",
       "      <td>0.0</td>\n",
       "      <td>0.0</td>\n",
       "      <td>ZTS</td>\n",
       "      <td>NaN</td>\n",
       "    </tr>\n",
       "    <tr>\n",
       "      <th>2023-11-08 00:00:00-05:00</th>\n",
       "      <td>168.830002</td>\n",
       "      <td>171.720001</td>\n",
       "      <td>167.960007</td>\n",
       "      <td>170.869995</td>\n",
       "      <td>3326300.0</td>\n",
       "      <td>0.0</td>\n",
       "      <td>0.0</td>\n",
       "      <td>ZTS</td>\n",
       "      <td>NaN</td>\n",
       "    </tr>\n",
       "    <tr>\n",
       "      <th>2023-11-09 00:00:00-05:00</th>\n",
       "      <td>170.970001</td>\n",
       "      <td>173.559998</td>\n",
       "      <td>170.550003</td>\n",
       "      <td>170.630005</td>\n",
       "      <td>3479300.0</td>\n",
       "      <td>0.0</td>\n",
       "      <td>0.0</td>\n",
       "      <td>ZTS</td>\n",
       "      <td>NaN</td>\n",
       "    </tr>\n",
       "    <tr>\n",
       "      <th>2023-11-10 00:00:00-05:00</th>\n",
       "      <td>170.509995</td>\n",
       "      <td>170.509995</td>\n",
       "      <td>166.240005</td>\n",
       "      <td>169.320007</td>\n",
       "      <td>2108500.0</td>\n",
       "      <td>0.0</td>\n",
       "      <td>0.0</td>\n",
       "      <td>ZTS</td>\n",
       "      <td>NaN</td>\n",
       "    </tr>\n",
       "  </tbody>\n",
       "</table>\n",
       "<p>381837 rows × 9 columns</p>\n",
       "</div>"
      ],
      "text/plain": [
       "                                 Open        High         Low       Close  \\\n",
       "Date                                                                        \n",
       "2020-09-11 00:00:00-04:00  144.311409  147.189862  143.975879  146.721893   \n",
       "2020-09-14 00:00:00-04:00  148.037493  149.600327  146.951440  148.743866   \n",
       "2020-09-15 00:00:00-04:00  149.988839  150.041814  146.721880  147.075073   \n",
       "2020-09-16 00:00:00-04:00  148.222932  151.074911  147.905065  149.670990   \n",
       "2020-09-17 00:00:00-04:00  148.337698  152.929100  147.622501  152.205078   \n",
       "...                               ...         ...         ...         ...   \n",
       "2023-11-06 00:00:00-05:00  170.279999  170.919998  162.220001  163.169998   \n",
       "2023-11-07 00:00:00-05:00  163.089996  167.449997  163.070007  167.160004   \n",
       "2023-11-08 00:00:00-05:00  168.830002  171.720001  167.960007  170.869995   \n",
       "2023-11-09 00:00:00-05:00  170.970001  173.559998  170.550003  170.630005   \n",
       "2023-11-10 00:00:00-05:00  170.509995  170.509995  166.240005  169.320007   \n",
       "\n",
       "                              Volume  Dividends  Stock Splits Symbol  \\\n",
       "Date                                                                   \n",
       "2020-09-11 00:00:00-04:00  1698500.0        0.0           0.0    MMM   \n",
       "2020-09-14 00:00:00-04:00  2264200.0        0.0           0.0    MMM   \n",
       "2020-09-15 00:00:00-04:00  2056300.0        0.0           0.0    MMM   \n",
       "2020-09-16 00:00:00-04:00  2931700.0        0.0           0.0    MMM   \n",
       "2020-09-17 00:00:00-04:00  2756100.0        0.0           0.0    MMM   \n",
       "...                              ...        ...           ...    ...   \n",
       "2023-11-06 00:00:00-05:00  2112500.0        0.0           0.0    ZTS   \n",
       "2023-11-07 00:00:00-05:00  2938200.0        0.0           0.0    ZTS   \n",
       "2023-11-08 00:00:00-05:00  3326300.0        0.0           0.0    ZTS   \n",
       "2023-11-09 00:00:00-05:00  3479300.0        0.0           0.0    ZTS   \n",
       "2023-11-10 00:00:00-05:00  2108500.0        0.0           0.0    ZTS   \n",
       "\n",
       "                           Adj Close  \n",
       "Date                                  \n",
       "2020-09-11 00:00:00-04:00        NaN  \n",
       "2020-09-14 00:00:00-04:00        NaN  \n",
       "2020-09-15 00:00:00-04:00        NaN  \n",
       "2020-09-16 00:00:00-04:00        NaN  \n",
       "2020-09-17 00:00:00-04:00        NaN  \n",
       "...                              ...  \n",
       "2023-11-06 00:00:00-05:00        NaN  \n",
       "2023-11-07 00:00:00-05:00        NaN  \n",
       "2023-11-08 00:00:00-05:00        NaN  \n",
       "2023-11-09 00:00:00-05:00        NaN  \n",
       "2023-11-10 00:00:00-05:00        NaN  \n",
       "\n",
       "[381837 rows x 9 columns]"
      ]
     },
     "execution_count": 35,
     "metadata": {},
     "output_type": "execute_result"
    }
   ],
   "source": [
    "data"
   ]
  },
  {
   "cell_type": "code",
   "execution_count": 37,
   "id": "69040d42",
   "metadata": {},
   "outputs": [
    {
     "name": "stdout",
     "output_type": "stream",
     "text": [
      "Defaulting to user installation because normal site-packages is not writeable\n",
      "Requirement already satisfied: pyarrow in /Users/hp/Library/Python/3.8/lib/python/site-packages (14.0.1)\n",
      "Requirement already satisfied: numpy>=1.16.6 in /Users/hp/Library/Python/3.8/lib/python/site-packages (from pyarrow) (1.24.4)\n",
      "Note: you may need to restart the kernel to use updated packages.\n"
     ]
    }
   ],
   "source": [
    "pip install pyarrow"
   ]
  },
  {
   "cell_type": "code",
   "execution_count": 43,
   "id": "8baa4fbc",
   "metadata": {},
   "outputs": [],
   "source": [
    "data.to_parquet('../../data/stock_data/spy_2020_2023.parquet')"
   ]
  },
  {
   "cell_type": "code",
   "execution_count": 44,
   "id": "9b9cffaa",
   "metadata": {},
   "outputs": [
    {
     "data": {
      "text/plain": [
       "479"
      ]
     },
     "execution_count": 44,
     "metadata": {},
     "output_type": "execute_result"
    }
   ],
   "source": [
    "len(set(data['Symbol']))"
   ]
  }
 ],
 "metadata": {
  "kernelspec": {
   "display_name": "Python 3 (ipykernel)",
   "language": "python",
   "name": "python3"
  },
  "language_info": {
   "codemirror_mode": {
    "name": "ipython",
    "version": 3
   },
   "file_extension": ".py",
   "mimetype": "text/x-python",
   "name": "python",
   "nbconvert_exporter": "python",
   "pygments_lexer": "ipython3",
   "version": "3.8.9"
  }
 },
 "nbformat": 4,
 "nbformat_minor": 5
}
